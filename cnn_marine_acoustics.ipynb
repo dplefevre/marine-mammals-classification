{
 "cells": [
  {
   "cell_type": "code",
   "execution_count": 1,
   "metadata": {
    "ExecuteTime": {
     "end_time": "2020-11-25T10:00:02.132587Z",
     "start_time": "2020-11-25T09:59:57.820053Z"
    }
   },
   "outputs": [],
   "source": [
    "import json\n",
    "import numpy as np\n",
    "import tensorflow.keras as keras\n",
    "%matplotlib inline\n",
    "import matplotlib.pyplot as plt\n",
    "from sklearn.model_selection import train_test_split"
   ]
  },
  {
   "cell_type": "code",
   "execution_count": null,
   "metadata": {
    "ExecuteTime": {
     "end_time": "2020-11-23T00:36:55.043760Z",
     "start_time": "2020-11-23T00:36:55.039918Z"
    }
   },
   "outputs": [],
   "source": [
    "# DATASET_PATH = \"data.json\"\n",
    "\n",
    "# def load_data(dataset_path):\n",
    "#     with open(dataset_path, \"r\") as fp:\n",
    "#         data = json.load(fp)\n",
    "\n",
    "#     # convert list into numpy arrays\n",
    "#     X = np.array(data['mfcc'])\n",
    "#     y = np.array(data['labels'])\n",
    "    \n",
    "#     print(\"Data successfully loaded\")\n",
    "    \n",
    "#     return X, y"
   ]
  },
  {
   "cell_type": "code",
   "execution_count": 2,
   "metadata": {
    "ExecuteTime": {
     "end_time": "2020-11-25T10:00:08.833345Z",
     "start_time": "2020-11-25T10:00:05.081032Z"
    }
   },
   "outputs": [],
   "source": [
    "\n",
    "with open(\"dataWS.json\", \"r\") as fp:\n",
    "    data = json.load(fp)\n",
    "\n",
    "    # convert list into numpy arrays\n",
    "    X = np.array(data['mfcc'])\n",
    "    y = np.array(data['labels'])"
   ]
  },
  {
   "cell_type": "code",
   "execution_count": 3,
   "metadata": {
    "ExecuteTime": {
     "end_time": "2020-11-25T10:00:42.124517Z",
     "start_time": "2020-11-25T10:00:42.119608Z"
    },
    "scrolled": true
   },
   "outputs": [
    {
     "data": {
      "text/plain": [
       "['risso dolphin',\n",
       " 'white sided dolphin',\n",
       " 'false killer whale',\n",
       " 'killer whale',\n",
       " 'humpback whale',\n",
       " 'sperm whale',\n",
       " 'bowhead whale']"
      ]
     },
     "execution_count": 3,
     "metadata": {},
     "output_type": "execute_result"
    }
   ],
   "source": [
    "data['mapping']"
   ]
  },
  {
   "cell_type": "code",
   "execution_count": 4,
   "metadata": {
    "ExecuteTime": {
     "end_time": "2020-11-25T10:01:16.486932Z",
     "start_time": "2020-11-25T10:01:16.481613Z"
    },
    "scrolled": false
   },
   "outputs": [
    {
     "data": {
      "text/plain": [
       "array([0, 1, 3, 4, 5, 7, 8])"
      ]
     },
     "execution_count": 4,
     "metadata": {},
     "output_type": "execute_result"
    }
   ],
   "source": [
    "np.uniqueeue(data['labels'])"
   ]
  },
  {
   "cell_type": "code",
   "execution_count": 5,
   "metadata": {
    "ExecuteTime": {
     "end_time": "2020-11-25T10:02:20.858315Z",
     "start_time": "2020-11-25T10:02:20.851246Z"
    }
   },
   "outputs": [
    {
     "data": {
      "text/plain": [
       "(array([0, 1, 2, 3, 5, 7, 8]), array([670, 550, 590, 700, 640, 740, 600]))"
      ]
     },
     "execution_count": 5,
     "metadata": {},
     "output_type": "execute_result"
    }
   ],
   "source": [
    "test = np.array(data['labels'])\n",
    "np.unique(test, return_counts=True)\n",
    "test1 = np.where(test == 3, 2,test)\n",
    "test2 = np.where(test1 == 4, 3,test1)\n",
    "\n",
    "np.unique(test2, return_counts=True)"
   ]
  },
  {
   "cell_type": "code",
   "execution_count": 6,
   "metadata": {
    "ExecuteTime": {
     "end_time": "2020-11-25T10:02:54.477663Z",
     "start_time": "2020-11-25T10:02:54.472775Z"
    }
   },
   "outputs": [
    {
     "data": {
      "text/plain": [
       "(array([0, 1, 2, 3, 4, 7, 8]), array([670, 550, 590, 700, 640, 740, 600]))"
      ]
     },
     "execution_count": 6,
     "metadata": {},
     "output_type": "execute_result"
    }
   ],
   "source": [
    "test3 = np.where(test2 == 5, 4,test2)\n",
    "np.unique(test3, return_counts=True)"
   ]
  },
  {
   "cell_type": "code",
   "execution_count": 8,
   "metadata": {
    "ExecuteTime": {
     "end_time": "2020-11-25T10:03:56.719168Z",
     "start_time": "2020-11-25T10:03:56.714852Z"
    }
   },
   "outputs": [
    {
     "data": {
      "text/plain": [
       "(array([0, 1, 2, 3, 4, 5, 8]), array([670, 550, 590, 700, 640, 740, 600]))"
      ]
     },
     "execution_count": 8,
     "metadata": {},
     "output_type": "execute_result"
    }
   ],
   "source": [
    "test4 = np.where(test3 == 7, 5,test3)\n",
    "np.unique(test4, return_counts=True)"
   ]
  },
  {
   "cell_type": "code",
   "execution_count": 9,
   "metadata": {
    "ExecuteTime": {
     "end_time": "2020-11-25T10:04:30.192155Z",
     "start_time": "2020-11-25T10:04:30.187454Z"
    }
   },
   "outputs": [
    {
     "data": {
      "text/plain": [
       "(array([0, 1, 2, 3, 4, 5, 6]), array([670, 550, 590, 700, 640, 740, 600]))"
      ]
     },
     "execution_count": 9,
     "metadata": {},
     "output_type": "execute_result"
    }
   ],
   "source": [
    "test5 = np.where(test4 == 8, 6,test4)\n",
    "np.unique(test5, return_counts=True)"
   ]
  },
  {
   "cell_type": "code",
   "execution_count": null,
   "metadata": {
    "ExecuteTime": {
     "end_time": "2020-11-24T07:36:53.815241Z",
     "start_time": "2020-11-24T07:36:53.810141Z"
    }
   },
   "outputs": [],
   "source": [
    "test6 = np.where(test5 == 12, 6,test5)\n",
    "np.unique(test6, return_counts=True)"
   ]
  },
  {
   "cell_type": "code",
   "execution_count": null,
   "metadata": {
    "ExecuteTime": {
     "end_time": "2020-11-24T07:40:48.662877Z",
     "start_time": "2020-11-24T07:40:48.659733Z"
    }
   },
   "outputs": [],
   "source": [
    "test7 = np.where(test6 == 14, 7,test6)\n",
    "y2 = np.unique(test7, return_counts=True)"
   ]
  },
  {
   "cell_type": "code",
   "execution_count": null,
   "metadata": {
    "ExecuteTime": {
     "end_time": "2020-11-24T07:41:24.144184Z",
     "start_time": "2020-11-24T07:41:24.140099Z"
    }
   },
   "outputs": [],
   "source": [
    "y2"
   ]
  },
  {
   "cell_type": "code",
   "execution_count": 10,
   "metadata": {
    "ExecuteTime": {
     "end_time": "2020-11-25T10:05:03.734938Z",
     "start_time": "2020-11-25T10:05:03.731119Z"
    }
   },
   "outputs": [],
   "source": [
    "def prepare_datasets(X, y2, test_size, validation_size):\n",
    "    \n",
    "    # load in the data\n",
    "#     X, y = load_data(DATASET_PATH)\n",
    "    \n",
    "    # create the train/test split\n",
    "    X_train, X_test, y_train, y_test = train_test_split(X, y2, test_size=test_size)\n",
    "    \n",
    "    # create the train/validation split\n",
    "    \n",
    "    X_train, X_validation, y_train, y_validation = train_test_split(X_train, y_train, test_size=validation_size)\n",
    "    \n",
    "    # Tensorflow for CNN expect a 3D array -> (130, 13, 1) audio grayscale images\n",
    "    X_train = X_train[..., np.newaxis] # 4d array -> (num of samples, 130, 13, 1)\n",
    "    X_validation = X_validation[..., np.newaxis] \n",
    "    X_test = X_test[..., np.newaxis] \n",
    "    \n",
    "    return X_train, X_validation, X_test, y_train, y_validation, y_test"
   ]
  },
  {
   "cell_type": "code",
   "execution_count": 11,
   "metadata": {
    "ExecuteTime": {
     "end_time": "2020-11-25T10:05:37.045957Z",
     "start_time": "2020-11-25T10:05:36.988742Z"
    }
   },
   "outputs": [],
   "source": [
    "# create train, validation and test sets\n",
    "\n",
    "X_train, X_validation, X_test, y_train, y_validation, y_test = prepare_datasets(X, test5, 0.25, 0.2) # test size, vailidation size"
   ]
  },
  {
   "cell_type": "markdown",
   "metadata": {},
   "source": [
    "# Build the model"
   ]
  },
  {
   "cell_type": "code",
   "execution_count": 12,
   "metadata": {
    "ExecuteTime": {
     "end_time": "2020-11-25T10:06:10.415229Z",
     "start_time": "2020-11-25T10:06:10.407065Z"
    }
   },
   "outputs": [],
   "source": [
    "\n",
    "def plot_history(history):\n",
    "    \"\"\"Plots accuracy/loss for training/validation set as a function of the epochs\n",
    "        :param history: Training history of model\n",
    "        :return:\n",
    "    \"\"\"\n",
    "\n",
    "    fig, axs = plt.subplots(2)\n",
    "\n",
    "    # create accuracy sublpot\n",
    "    axs[0].plot(history.history[\"accuracy\"], label=\"train accuracy\")\n",
    "    axs[0].plot(history.history[\"val_accuracy\"], label=\"test accuracy\")\n",
    "    axs[0].set_ylabel(\"Accuracy\")\n",
    "    axs[0].legend(loc=\"lower right\")\n",
    "    axs[0].set_title(\"Accuracy eval\")\n",
    "\n",
    "    # create error sublpot\n",
    "    axs[1].plot(history.history[\"loss\"], label=\"train error\")\n",
    "    axs[1].plot(history.history[\"val_loss\"], label=\"test error\")\n",
    "    axs[1].set_ylabel(\"Error\")\n",
    "    axs[1].set_xlabel(\"Epoch\")\n",
    "    axs[1].legend(loc=\"upper right\")\n",
    "    axs[1].set_title(\"Error eval\")\n",
    "\n",
    "    plt.show()"
   ]
  },
  {
   "cell_type": "code",
   "execution_count": 13,
   "metadata": {
    "ExecuteTime": {
     "end_time": "2020-11-25T10:06:43.646780Z",
     "start_time": "2020-11-25T10:06:43.640022Z"
    }
   },
   "outputs": [],
   "source": [
    "def build_model(input_shape):\n",
    "    \n",
    "    # Instantiate model\n",
    "    model = keras.Sequential()\n",
    "    \n",
    "    # 1st conv layer\n",
    "    model.add(keras.layers.Conv2D(32, (3, 3), activation='relu', input_shape=input_shape))\n",
    "    model.add(keras.layers.MaxPool2D((3, 3), strides=(2,2), padding='same'))\n",
    "    model.add(keras.layers.BatchNormalization()) # normalizes the activation at the layer, speeds up training\n",
    "              \n",
    "    # 2nd conv layer\n",
    "    model.add(keras.layers.Conv2D(32, (3, 3), activation='relu', input_shape=input_shape))\n",
    "    model.add(keras.layers.MaxPool2D((3, 3), strides=(2,2), padding='same'))\n",
    "    model.add(keras.layers.BatchNormalization())\n",
    "                  \n",
    "              \n",
    "    # 3rd conv layer\n",
    "    model.add(keras.layers.Conv2D(32, (2, 2), activation='relu', input_shape=input_shape))\n",
    "    model.add(keras.layers.MaxPool2D((2, 2), strides=(2,2), padding='same'))\n",
    "    model.add(keras.layers.BatchNormalization())\n",
    "              \n",
    "    # flatten output and feed it into dense layer\n",
    "    model.add(keras.layers.Flatten()) # flatten conv output\n",
    "    model.add(keras.layers.Dense(64, activation='relu'))\n",
    "    model.add(keras.layers.Dropout(0.3)) # randomly drops neurons\n",
    "            \n",
    "    # output layer that uses softmax\n",
    "    model.add(keras.layers.Dense(7, activation='softmax')) # number of neurons of the classifications we want to predict\n",
    "    \n",
    "    print(model.summary())\n",
    "    \n",
    "    return model"
   ]
  },
  {
   "cell_type": "code",
   "execution_count": 14,
   "metadata": {
    "ExecuteTime": {
     "end_time": "2020-11-25T10:07:18.201841Z",
     "start_time": "2020-11-25T10:07:18.053553Z"
    }
   },
   "outputs": [
    {
     "name": "stdout",
     "output_type": "stream",
     "text": [
      "Model: \"sequential\"\n",
      "_________________________________________________________________\n",
      "Layer (type)                 Output Shape              Param #   \n",
      "=================================================================\n",
      "conv2d (Conv2D)              (None, 128, 11, 32)       320       \n",
      "_________________________________________________________________\n",
      "max_pooling2d (MaxPooling2D) (None, 64, 6, 32)         0         \n",
      "_________________________________________________________________\n",
      "batch_normalization (BatchNo (None, 64, 6, 32)         128       \n",
      "_________________________________________________________________\n",
      "conv2d_1 (Conv2D)            (None, 62, 4, 32)         9248      \n",
      "_________________________________________________________________\n",
      "max_pooling2d_1 (MaxPooling2 (None, 31, 2, 32)         0         \n",
      "_________________________________________________________________\n",
      "batch_normalization_1 (Batch (None, 31, 2, 32)         128       \n",
      "_________________________________________________________________\n",
      "conv2d_2 (Conv2D)            (None, 30, 1, 32)         4128      \n",
      "_________________________________________________________________\n",
      "max_pooling2d_2 (MaxPooling2 (None, 15, 1, 32)         0         \n",
      "_________________________________________________________________\n",
      "batch_normalization_2 (Batch (None, 15, 1, 32)         128       \n",
      "_________________________________________________________________\n",
      "flatten (Flatten)            (None, 480)               0         \n",
      "_________________________________________________________________\n",
      "dense (Dense)                (None, 64)                30784     \n",
      "_________________________________________________________________\n",
      "dropout (Dropout)            (None, 64)                0         \n",
      "_________________________________________________________________\n",
      "dense_1 (Dense)              (None, 7)                 455       \n",
      "=================================================================\n",
      "Total params: 45,319\n",
      "Trainable params: 45,127\n",
      "Non-trainable params: 192\n",
      "_________________________________________________________________\n",
      "None\n"
     ]
    }
   ],
   "source": [
    "# build the cnn net\n",
    "input_shape = (X_train.shape[1], X_train.shape[2], X_train.shape[3])\n",
    "model = build_model(input_shape)"
   ]
  },
  {
   "cell_type": "code",
   "execution_count": 15,
   "metadata": {
    "ExecuteTime": {
     "end_time": "2020-11-25T10:07:50.393767Z",
     "start_time": "2020-11-25T10:07:50.384156Z"
    }
   },
   "outputs": [],
   "source": [
    "# compile the network\n",
    "optimizer = keras.optimizers.Adam(learning_rate=0.0001)\n",
    "model.compile(optimizer=optimizer, \n",
    "              loss=\"sparse_categorical_crossentropy\",\n",
    "              metrics=['accuracy'])"
   ]
  },
  {
   "cell_type": "code",
   "execution_count": 16,
   "metadata": {
    "ExecuteTime": {
     "end_time": "2020-11-25T10:10:24.170506Z",
     "start_time": "2020-11-25T10:09:21.636740Z"
    },
    "scrolled": false
   },
   "outputs": [
    {
     "name": "stdout",
     "output_type": "stream",
     "text": [
      "Epoch 1/30\n",
      "85/85 [==============================] - 3s 31ms/step - loss: 1.5448 - accuracy: 0.4616 - val_loss: 1.3897 - val_accuracy: 0.4866\n",
      "Epoch 2/30\n",
      "85/85 [==============================] - 2s 23ms/step - loss: 0.9089 - accuracy: 0.6925 - val_loss: 0.9054 - val_accuracy: 0.6840\n",
      "Epoch 3/30\n",
      "85/85 [==============================] - 2s 24ms/step - loss: 0.6588 - accuracy: 0.7843 - val_loss: 0.5923 - val_accuracy: 0.8175\n",
      "Epoch 4/30\n",
      "85/85 [==============================] - 2s 24ms/step - loss: 0.5143 - accuracy: 0.8303 - val_loss: 0.3961 - val_accuracy: 0.8828\n",
      "Epoch 5/30\n",
      "85/85 [==============================] - 2s 23ms/step - loss: 0.4096 - accuracy: 0.8682 - val_loss: 0.3540 - val_accuracy: 0.8709\n",
      "Epoch 6/30\n",
      "85/85 [==============================] - 2s 23ms/step - loss: 0.3327 - accuracy: 0.8927 - val_loss: 0.2259 - val_accuracy: 0.9288\n",
      "Epoch 7/30\n",
      "85/85 [==============================] - 2s 24ms/step - loss: 0.2955 - accuracy: 0.9090 - val_loss: 0.1767 - val_accuracy: 0.9555\n",
      "Epoch 8/30\n",
      "85/85 [==============================] - 2s 23ms/step - loss: 0.2550 - accuracy: 0.9165 - val_loss: 0.1788 - val_accuracy: 0.9303\n",
      "Epoch 9/30\n",
      "85/85 [==============================] - 2s 23ms/step - loss: 0.2155 - accuracy: 0.9354 - val_loss: 0.1242 - val_accuracy: 0.9644\n",
      "Epoch 10/30\n",
      "85/85 [==============================] - 2s 23ms/step - loss: 0.1959 - accuracy: 0.9428 - val_loss: 0.1189 - val_accuracy: 0.9674\n",
      "Epoch 11/30\n",
      "85/85 [==============================] - 2s 23ms/step - loss: 0.1904 - accuracy: 0.9450 - val_loss: 0.1046 - val_accuracy: 0.9659\n",
      "Epoch 12/30\n",
      "85/85 [==============================] - 2s 24ms/step - loss: 0.1652 - accuracy: 0.9476 - val_loss: 0.1066 - val_accuracy: 0.9599\n",
      "Epoch 13/30\n",
      "85/85 [==============================] - 2s 24ms/step - loss: 0.1488 - accuracy: 0.9599 - val_loss: 0.0770 - val_accuracy: 0.9703\n",
      "Epoch 14/30\n",
      "85/85 [==============================] - 2s 23ms/step - loss: 0.1472 - accuracy: 0.9521 - val_loss: 0.0699 - val_accuracy: 0.9792\n",
      "Epoch 15/30\n",
      "85/85 [==============================] - 2s 23ms/step - loss: 0.1424 - accuracy: 0.9558 - val_loss: 0.0689 - val_accuracy: 0.9792\n",
      "Epoch 16/30\n",
      "85/85 [==============================] - 2s 24ms/step - loss: 0.1123 - accuracy: 0.9681 - val_loss: 0.0524 - val_accuracy: 0.9866\n",
      "Epoch 17/30\n",
      "85/85 [==============================] - 2s 24ms/step - loss: 0.1052 - accuracy: 0.9722 - val_loss: 0.0516 - val_accuracy: 0.9807\n",
      "Epoch 18/30\n",
      "85/85 [==============================] - 2s 23ms/step - loss: 0.1041 - accuracy: 0.9673 - val_loss: 0.0497 - val_accuracy: 0.9866\n",
      "Epoch 19/30\n",
      "85/85 [==============================] - 2s 23ms/step - loss: 0.1030 - accuracy: 0.9688 - val_loss: 0.0607 - val_accuracy: 0.9792\n",
      "Epoch 20/30\n",
      "85/85 [==============================] - 2s 24ms/step - loss: 0.0968 - accuracy: 0.9718 - val_loss: 0.0442 - val_accuracy: 0.9896\n",
      "Epoch 21/30\n",
      "85/85 [==============================] - 2s 24ms/step - loss: 0.0869 - accuracy: 0.9747 - val_loss: 0.0472 - val_accuracy: 0.9866\n",
      "Epoch 22/30\n",
      "85/85 [==============================] - 2s 24ms/step - loss: 0.0865 - accuracy: 0.9762 - val_loss: 0.0402 - val_accuracy: 0.9881\n",
      "Epoch 23/30\n",
      "85/85 [==============================] - 2s 24ms/step - loss: 0.0698 - accuracy: 0.9799 - val_loss: 0.0322 - val_accuracy: 0.9911\n",
      "Epoch 24/30\n",
      "85/85 [==============================] - 2s 24ms/step - loss: 0.0740 - accuracy: 0.9766 - val_loss: 0.0567 - val_accuracy: 0.9733\n",
      "Epoch 25/30\n",
      "85/85 [==============================] - 2s 24ms/step - loss: 0.0629 - accuracy: 0.9840 - val_loss: 0.0303 - val_accuracy: 0.9896\n",
      "Epoch 26/30\n",
      "85/85 [==============================] - 2s 24ms/step - loss: 0.0628 - accuracy: 0.9825 - val_loss: 0.0294 - val_accuracy: 0.9911\n",
      "Epoch 27/30\n",
      "85/85 [==============================] - 2s 24ms/step - loss: 0.0611 - accuracy: 0.9833 - val_loss: 0.0265 - val_accuracy: 0.9896\n",
      "Epoch 28/30\n",
      "85/85 [==============================] - 2s 24ms/step - loss: 0.0611 - accuracy: 0.9840 - val_loss: 0.0332 - val_accuracy: 0.9852\n",
      "Epoch 29/30\n",
      "85/85 [==============================] - 2s 24ms/step - loss: 0.0605 - accuracy: 0.9837 - val_loss: 0.0236 - val_accuracy: 0.9926\n",
      "Epoch 30/30\n",
      "85/85 [==============================] - 2s 24ms/step - loss: 0.0543 - accuracy: 0.9829 - val_loss: 0.0208 - val_accuracy: 0.9926\n"
     ]
    },
    {
     "data": {
      "image/png": "[encoded data removed]",
      "text/plain": [
       "<Figure size 432x288 with 2 Axes>"
      ]
     },
     "metadata": {
      "needs_background": "light"
     },
     "output_type": "display_data"
    }
   ],
   "source": [
    "# Train the cnn \n",
    "history = model.fit(X_train, y_train, validation_data=(X_validation, y_validation), batch_size=32, epochs=30)\n",
    "\n",
    "# plot accuracy/error for training and validation\n",
    "plot_history(history)"
   ]
  },
  {
   "cell_type": "code",
   "execution_count": 17,
   "metadata": {
    "ExecuteTime": {
     "end_time": "2020-11-25T10:10:56.872812Z",
     "start_time": "2020-11-25T10:10:56.617803Z"
    }
   },
   "outputs": [
    {
     "name": "stdout",
     "output_type": "stream",
     "text": [
      "36/36 [==============================] - 0s 6ms/step - loss: 0.0225 - accuracy: 0.9938\n",
      "Accuracy on test set is: 0.993766725063324\n"
     ]
    }
   ],
   "source": [
    "# evaluate the cnn on the test set\n",
    "\n",
    "test_error, test_accuracy = model.evaluate(X_test, y_test, verbose=1)\n",
    "print(\"Accuracy on test set is: {}\".format(test_accuracy))"
   ]
  },
  {
   "cell_type": "code",
   "execution_count": 18,
   "metadata": {
    "ExecuteTime": {
     "end_time": "2020-11-25T10:11:27.998967Z",
     "start_time": "2020-11-25T10:11:27.995811Z"
    }
   },
   "outputs": [],
   "source": [
    "def predict(model, X, y):\n",
    "    X = X[np.newaxis, ...] # to put make a 4D\n",
    "    \n",
    "    # prediction = [ [0.1, 0.2, ...] ] result of the softmax\n",
    "    prediction = model.predict(X) # X -> (130, 13, 1) but expect 4D i.e num samples (1, 130, 13, 1)\n",
    "    \n",
    "    # extract the index with the max value\n",
    "    predicted_index = np.argmax(prediction, axis=1) # [idx] \n",
    "    print(\"Expected index: {}, Predicted index: {}\".format(y, predicted_index))\n",
    "#     print(X.shape)\n",
    "    "
   ]
  },
  {
   "cell_type": "code",
   "execution_count": 19,
   "metadata": {
    "ExecuteTime": {
     "end_time": "2020-11-25T10:11:58.983577Z",
     "start_time": "2020-11-25T10:11:58.874539Z"
    }
   },
   "outputs": [
    {
     "name": "stdout",
     "output_type": "stream",
     "text": [
      "Expected index: 4, Predicted index: [4]\n"
     ]
    }
   ],
   "source": [
    "# make a prediction on a sample\n",
    "X = X_test[65]\n",
    "y = y_test[65]\n",
    "\n",
    "predict(model, X, y)"
   ]
  },
  {
   "cell_type": "code",
   "execution_count": 20,
   "metadata": {
    "ExecuteTime": {
     "end_time": "2020-11-25T10:12:30.939771Z",
     "start_time": "2020-11-25T10:12:30.936303Z"
    },
    "scrolled": true
   },
   "outputs": [
    {
     "name": "stdout",
     "output_type": "stream",
     "text": [
      "['risso dolphin', 'white sided dolphin', 'false killer whale', 'killer whale', 'humpback whale', 'sperm whale', 'bowhead whale']\n"
     ]
    }
   ],
   "source": [
    "print(data['mapping'])"
   ]
  },
  {
   "cell_type": "markdown",
   "metadata": {},
   "source": [
    "# Test unseen audio"
   ]
  },
  {
   "cell_type": "code",
   "execution_count": 21,
   "metadata": {
    "ExecuteTime": {
     "end_time": "2020-11-25T10:13:02.709090Z",
     "start_time": "2020-11-25T10:13:02.697493Z"
    }
   },
   "outputs": [],
   "source": [
    "with open(\"test_samps/humpback.json\", \"r\") as fp:\n",
    "    data2 = json.load(fp)\n",
    "\n",
    "    # convert list into numpy arrays\n",
    "    X3 = np.array(data2['mfcc'])"
   ]
  },
  {
   "cell_type": "code",
   "execution_count": 22,
   "metadata": {
    "ExecuteTime": {
     "end_time": "2020-11-25T10:13:34.830737Z",
     "start_time": "2020-11-25T10:13:34.827688Z"
    }
   },
   "outputs": [],
   "source": [
    "t = X3[:, ...]\n",
    "X5 = t[..., np.newaxis]"
   ]
  },
  {
   "cell_type": "code",
   "execution_count": 23,
   "metadata": {
    "ExecuteTime": {
     "end_time": "2020-11-25T10:14:06.483599Z",
     "start_time": "2020-11-25T10:14:06.479956Z"
    }
   },
   "outputs": [
    {
     "data": {
      "text/plain": [
       "(10, 130, 13, 1)"
      ]
     },
     "execution_count": 23,
     "metadata": {},
     "output_type": "execute_result"
    }
   ],
   "source": [
    "X5.shape"
   ]
  },
  {
   "cell_type": "code",
   "execution_count": 24,
   "metadata": {
    "ExecuteTime": {
     "end_time": "2020-11-25T10:14:38.046153Z",
     "start_time": "2020-11-25T10:14:38.012515Z"
    }
   },
   "outputs": [
    {
     "name": "stdout",
     "output_type": "stream",
     "text": [
      "Expected index: 4, Predicted index: [4]\n"
     ]
    }
   ],
   "source": [
    "predict(model, X5[1], 4) # test 0 - 9 segments of mfccs"
   ]
  },
  {
   "cell_type": "code",
   "execution_count": 25,
   "metadata": {
    "ExecuteTime": {
     "end_time": "2020-11-25T10:15:09.548906Z",
     "start_time": "2020-11-25T10:15:09.507651Z"
    }
   },
   "outputs": [],
   "source": [
    "prediction = model.predict(X5)\n",
    "predicted_index = np.argmax(prediction, axis=1) # predict all the segments at once"
   ]
  },
  {
   "cell_type": "code",
   "execution_count": 26,
   "metadata": {
    "ExecuteTime": {
     "end_time": "2020-11-25T10:15:40.802398Z",
     "start_time": "2020-11-25T10:15:40.798020Z"
    }
   },
   "outputs": [
    {
     "data": {
      "text/plain": [
       "array([[3.17998114e-03, 3.09666723e-01, 5.33947051e-02, 4.34903383e-01,\n",
       "        1.63063809e-01, 3.57146375e-02, 7.66980811e-05],\n",
       "       [5.31659788e-03, 2.84123025e-03, 2.17704583e-04, 1.21253684e-01,\n",
       "        6.50529146e-01, 2.17361182e-01, 2.48040189e-03],\n",
       "       [5.87796443e-04, 5.93346020e-04, 2.26805751e-05, 2.00216286e-02,\n",
       "        9.45056617e-01, 3.29201743e-02, 7.97718181e-04],\n",
       "       [6.15526969e-03, 1.47022633e-02, 2.19304790e-03, 1.88593537e-01,\n",
       "        6.12068355e-01, 1.63903773e-01, 1.23836854e-02],\n",
       "       [1.30850552e-02, 5.55217639e-03, 1.07567653e-03, 5.26934639e-02,\n",
       "        7.79257774e-01, 1.42325923e-01, 6.00994192e-03],\n",
       "       [5.79292048e-03, 7.82383792e-03, 6.93156850e-04, 1.55954808e-01,\n",
       "        4.96003509e-01, 3.29796880e-01, 3.93487699e-03],\n",
       "       [2.71440740e-03, 1.19009269e-02, 2.25871554e-04, 8.36253911e-02,\n",
       "        5.83689332e-01, 3.16970795e-01, 8.73304438e-04],\n",
       "       [2.05317419e-03, 1.75516668e-03, 5.50486147e-04, 7.47793838e-02,\n",
       "        7.08630621e-01, 1.49060711e-01, 6.31704554e-02],\n",
       "       [4.91610216e-03, 1.92058785e-03, 2.24059564e-04, 1.18026242e-01,\n",
       "        4.80270386e-02, 8.20366859e-01, 6.51917793e-03],\n",
       "       [1.95020949e-03, 2.13771104e-03, 5.54075930e-04, 7.11942390e-02,\n",
       "        8.74745488e-01, 3.84580977e-02, 1.09601784e-02]], dtype=float32)"
      ]
     },
     "execution_count": 26,
     "metadata": {},
     "output_type": "execute_result"
    }
   ],
   "source": [
    "prediction"
   ]
  },
  {
   "cell_type": "code",
   "execution_count": 27,
   "metadata": {
    "ExecuteTime": {
     "end_time": "2020-11-25T10:16:11.939049Z",
     "start_time": "2020-11-25T10:16:11.935524Z"
    }
   },
   "outputs": [
    {
     "data": {
      "text/plain": [
       "array([3, 4, 4, 4, 4, 4, 4, 4, 5, 4])"
      ]
     },
     "execution_count": 27,
     "metadata": {},
     "output_type": "execute_result"
    }
   ],
   "source": [
    "predicted_index # 90% accurate on unseen audio at 6-8 dB lower than the training data."
   ]
  },
  {
   "cell_type": "code",
   "execution_count": null,
   "metadata": {},
   "outputs": [],
   "source": [
    "  # train model\n",
    "    history = model.fit(X_train, y_train, validation_data=(X_validation, y_validation), batch_size=32, epochs=30)\n",
    "\n",
    "    # plot accuracy/error for training and validation\n",
    "    plot_history(history)"
   ]
  }
 ],
 "metadata": {
  "kernelspec": {
   "display_name": "Python 3",
   "language": "python",
   "name": "python3"
  },
  "language_info": {
   "codemirror_mode": {
    "name": "ipython",
    "version": 3
   },
   "file_extension": ".py",
   "mimetype": "text/x-python",
   "name": "python",
   "nbconvert_exporter": "python",
   "pygments_lexer": "ipython3",
   "version": "3.8.5"
  },
  "varInspector": {
   "cols": {
    "lenName": 16,
    "lenType": 16,
    "lenVar": 40
   },
   "kernels_config": {
    "python": {
     "delete_cmd_postfix": "",
     "delete_cmd_prefix": "del ",
     "library": "var_list.py",
     "varRefreshCmd": "print(var_dic_list())"
    },
    "r": {
     "delete_cmd_postfix": ") ",
     "delete_cmd_prefix": "rm(",
     "library": "var_list.r",
     "varRefreshCmd": "cat(var_dic_list()) "
    }
   },
   "types_to_exclude": [
    "module",
    "function",
    "builtin_function_or_method",
    "instance",
    "_Feature"
   ],
   "window_display": false
  }
 },
 "nbformat": 4,
 "nbformat_minor": 4
}
