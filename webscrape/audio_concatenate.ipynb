{
 "cells": [
  {
   "cell_type": "code",
   "execution_count": 13,
   "metadata": {
    "ExecuteTime": {
     "end_time": "2020-11-25T06:57:01.336284Z",
     "start_time": "2020-11-25T06:57:01.334060Z"
    }
   },
   "outputs": [],
   "source": [
    "import pydub\n",
    "from pydub import AudioSegment\n",
    "import os \n",
    "from pydub.playback import play "
   ]
  },
  {
   "cell_type": "code",
   "execution_count": 130,
   "metadata": {
    "ExecuteTime": {
     "end_time": "2020-11-25T08:31:09.762743Z",
     "start_time": "2020-11-25T08:31:09.759302Z"
    }
   },
   "outputs": [],
   "source": [
    "\n",
    "def get_wavs_from_directory(dirpath= \"data/\"):\n",
    "    \n",
    "    playlist = []\n",
    "    \n",
    "    for file in os.listdir(dirpath):\n",
    "        if file not in (\".ipynb_checkpoints\"):\n",
    "            sound = AudioSegment.from_file(f\"{dirpath}{file}\")\n",
    "        \n",
    "        # check length for 30 seconds in milliseconds\n",
    "            while len(sound) < 30000:\n",
    "                sound = sound * 2\n",
    "        \n",
    "            playlist.append(sound)\n",
    "    \n",
    "    \n",
    "    return playlist"
   ]
  },
  {
   "cell_type": "code",
   "execution_count": 131,
   "metadata": {
    "ExecuteTime": {
     "end_time": "2020-11-25T08:31:11.554921Z",
     "start_time": "2020-11-25T08:31:10.767698Z"
    }
   },
   "outputs": [],
   "source": [
    "dirpath = \"data/sperm whale/\"\n",
    "playlist = get_wavs_from_directory(dirpath)"
   ]
  },
  {
   "cell_type": "code",
   "execution_count": 132,
   "metadata": {
    "ExecuteTime": {
     "end_time": "2020-11-25T08:31:13.427305Z",
     "start_time": "2020-11-25T08:31:13.423582Z"
    }
   },
   "outputs": [
    {
     "data": {
      "text/plain": [
       "74"
      ]
     },
     "execution_count": 132,
     "metadata": {},
     "output_type": "execute_result"
    }
   ],
   "source": [
    "len(playlist)"
   ]
  },
  {
   "cell_type": "code",
   "execution_count": 121,
   "metadata": {
    "ExecuteTime": {
     "end_time": "2020-11-25T08:24:31.872292Z",
     "start_time": "2020-11-25T08:24:31.870217Z"
    }
   },
   "outputs": [],
   "source": [
    "# playlist = playlist*2 # use this to double the size of the audio"
   ]
  },
  {
   "cell_type": "code",
   "execution_count": 113,
   "metadata": {
    "ExecuteTime": {
     "end_time": "2020-11-25T08:20:10.806583Z",
     "start_time": "2020-11-25T08:20:10.803547Z"
    }
   },
   "outputs": [],
   "source": [
    "# make 30 second chuncks for each wav file.\n",
    "from pydub.utils import make_chunks\n",
    "\n",
    "def save_new_audio(playlist,fish, path):\n",
    "    \n",
    "    chunk_len = 30000\n",
    "    \n",
    "    for idx, wav in enumerate(playlist):\n",
    "        audio = make_chunks(wav, chunk_len)\n",
    "        audio[0].export(f\"{path}{fish}{idx}.wav\", format=\"wav\")\n",
    "        \n",
    "    "
   ]
  },
  {
   "cell_type": "code",
   "execution_count": 133,
   "metadata": {
    "ExecuteTime": {
     "end_time": "2020-11-25T08:31:23.541396Z",
     "start_time": "2020-11-25T08:31:22.927672Z"
    }
   },
   "outputs": [],
   "source": [
    "path = \"training_data/sperm whale/\"\n",
    "fish = \"sperm whale\"\n",
    "save_new_audio(playlist, fish, path)"
   ]
  }
 ],
 "metadata": {
  "kernelspec": {
   "display_name": "Python 3",
   "language": "python",
   "name": "python3"
  },
  "language_info": {
   "codemirror_mode": {
    "name": "ipython",
    "version": 3
   },
   "file_extension": ".py",
   "mimetype": "text/x-python",
   "name": "python",
   "nbconvert_exporter": "python",
   "pygments_lexer": "ipython3",
   "version": "3.8.5"
  },
  "varInspector": {
   "cols": {
    "lenName": 16,
    "lenType": 16,
    "lenVar": 40
   },
   "kernels_config": {
    "python": {
     "delete_cmd_postfix": "",
     "delete_cmd_prefix": "del ",
     "library": "var_list.py",
     "varRefreshCmd": "print(var_dic_list())"
    },
    "r": {
     "delete_cmd_postfix": ") ",
     "delete_cmd_prefix": "rm(",
     "library": "var_list.r",
     "varRefreshCmd": "cat(var_dic_list()) "
    }
   },
   "types_to_exclude": [
    "module",
    "function",
    "builtin_function_or_method",
    "instance",
    "_Feature"
   ],
   "window_display": false
  }
 },
 "nbformat": 4,
 "nbformat_minor": 4
}
